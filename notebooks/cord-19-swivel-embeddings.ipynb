{
 "cells": [
  {
   "cell_type": "markdown",
   "metadata": {},
   "source": [
    "# TF-Hub CORD-19 Swivel Embeddings\n",
    "\n",
    "**Acknowledgements:**\n",
    "1. TensorFlow Hub [Colab Notebook](https://www.tensorflow.org/hub/tutorials/cord_19_embeddings_keras).  \n",
    "2. TensorFlow Github [Notebook](https://github.com/tensorflow/hub/blob/master/examples/colab/cord_19_embeddings_keras.ipynb).  \n",
    "3. Swivel text [embeddings](https://tfhub.dev/tensorflow/cord-19/swivel-128d/3).  "
   ]
  },
  {
   "cell_type": "code",
   "execution_count": 1,
   "metadata": {},
   "outputs": [],
   "source": [
    "embedding_url = 'https://tfhub.dev/tensorflow/cord-19/swivel-128d/3'"
   ]
  },
  {
   "cell_type": "markdown",
   "metadata": {},
   "source": [
    "**Table of contents:**\n",
    "1. [Setup](#Setup)  \n",
    "2. [Analyze embeddings](#Analyze-embeddings)  \n",
    "3. [SciCite: Citation intent classification](#SciCite:-Citation-intent-classification)  \n",
    "4. [Training a citation intent classifier](#Training-a-citation-intent-classifier)  \n",
    "5. [Train and evaluate the model](#Train-and-evaluate-the-model)  \n",
    "6. [Evaluate the model](#Evaluate-the-model)  "
   ]
  },
  {
   "cell_type": "markdown",
   "metadata": {},
   "source": [
    "## Setup"
   ]
  },
  {
   "cell_type": "code",
   "execution_count": 2,
   "metadata": {},
   "outputs": [],
   "source": [
    "import functools\n",
    "import itertools\n",
    "import matplotlib.pyplot as plt\n",
    "import numpy as np\n",
    "import seaborn as sns\n",
    "import pandas as pd\n",
    "\n",
    "import tensorflow as tf\n",
    "\n",
    "import tensorflow_datasets as tfds\n",
    "import tensorflow_hub as hub\n",
    "\n",
    "from tqdm import trange"
   ]
  },
  {
   "cell_type": "markdown",
   "metadata": {},
   "source": [
    "## Analyze embeddings\n",
    "\n",
    "Calculate and plot the correlation matrix between different terms. If the embedding learned to successfully capture the meaning of different words, the embedding vectors of semantically similar words should be close together."
   ]
  },
  {
   "cell_type": "code",
   "execution_count": 3,
   "metadata": {},
   "outputs": [
    {
     "data": {
      "image/png": "[encoded data removed]",
      "text/plain": [
       "<Figure size 432x288 with 2 Axes>"
      ]
     },
     "metadata": {
      "needs_background": "light"
     },
     "output_type": "display_data"
    }
   ],
   "source": [
    "# Use the inner product between 2 vectors as a similarity measure\n",
    "def plot_correlation(labels, features):\n",
    "    corr = np.inner(features, features)  # similarity measure\n",
    "    corr /= np.max(corr)\n",
    "    sns.heatmap(corr, xticklabels=labels, yticklabels=labels)\n",
    "    \n",
    "# Generate embeddings for some terms\n",
    "queries = [\n",
    "    # Related viruses\n",
    "    'coronavirus', 'SARS', 'MERS',\n",
    "    # Regions\n",
    "    'Italy', 'Spain', 'Europe', \n",
    "    # Symptoms\n",
    "    'cough', 'fever', 'throat'\n",
    "]\n",
    "\n",
    "module = hub.load(embedding_url)\n",
    "embeddings = module(queries)\n",
    "\n",
    "plot_correlation(queries, embeddings)"
   ]
  },
  {
   "cell_type": "markdown",
   "metadata": {},
   "source": [
    "The heatmap shows that the embedding has successfully captured the meaning of similar terms."
   ]
  },
  {
   "cell_type": "markdown",
   "metadata": {},
   "source": [
    "## SciCite: Citation intent classification\n",
    "\n",
    "Use the embedding for downstream tasks.\n",
    "\n",
    "Use the [SciCite dataset](https://www.tensorflow.org/datasets/catalog/scicite) to classify citation intents in academic papers. Given a sentence with a citation from a paper, classify whether the main intent of the citation is as background information (`background`), use of methods (`method`), or comparing results (`result`)."
   ]
  },
  {
   "cell_type": "code",
   "execution_count": 5,
   "metadata": {},
   "outputs": [
    {
     "name": "stdout",
     "output_type": "stream",
     "text": [
      "\u001b[1mDownloading and preparing dataset scicite/1.0.0 (download: 22.12 MiB, generated: Unknown size, total: 22.12 MiB) to /home/ivogeorg/tensorflow_datasets/scicite/1.0.0...\u001b[0m\n"
     ]
    },
    {
     "data": {
      "application/vnd.jupyter.widget-view+json": {
       "model_id": "514a0426a9194962ac776cfe513d9975",
       "version_major": 2,
       "version_minor": 0
      },
      "text/plain": [
       "HBox(children=(FloatProgress(value=1.0, bar_style='info', description='Dl Completed...', max=1.0, style=Progre…"
      ]
     },
     "metadata": {},
     "output_type": "display_data"
    },
    {
     "data": {
      "application/vnd.jupyter.widget-view+json": {
       "model_id": "93a57f917a1d4dc08c309545af4e061b",
       "version_major": 2,
       "version_minor": 0
      },
      "text/plain": [
       "HBox(children=(FloatProgress(value=1.0, bar_style='info', description='Dl Size...', max=1.0, style=ProgressSty…"
      ]
     },
     "metadata": {},
     "output_type": "display_data"
    },
    {
     "data": {
      "application/vnd.jupyter.widget-view+json": {
       "model_id": "efc7f7e7d78d430aa300af537a923b64",
       "version_major": 2,
       "version_minor": 0
      },
      "text/plain": [
       "HBox(children=(FloatProgress(value=1.0, bar_style='info', description='Extraction completed...', max=1.0, styl…"
      ]
     },
     "metadata": {},
     "output_type": "display_data"
    },
    {
     "name": "stderr",
     "output_type": "stream",
     "text": [
      "/home/ivogeorg/anaconda3/envs/tf-2/lib/python3.7/site-packages/urllib3/connectionpool.py:1004: InsecureRequestWarning: Unverified HTTPS request is being made to host 's3-us-west-2.amazonaws.com'. Adding certificate verification is strongly advised. See: https://urllib3.readthedocs.io/en/latest/advanced-usage.html#ssl-warnings\n",
      "  InsecureRequestWarning,\n"
     ]
    },
    {
     "name": "stdout",
     "output_type": "stream",
     "text": [
      "\n",
      "\n",
      "\n",
      "\n",
      "\n",
      "\n"
     ]
    },
    {
     "data": {
      "application/vnd.jupyter.widget-view+json": {
       "model_id": "",
       "version_major": 2,
       "version_minor": 0
      },
      "text/plain": [
       "HBox(children=(FloatProgress(value=1.0, bar_style='info', max=1.0), HTML(value='')))"
      ]
     },
     "metadata": {},
     "output_type": "display_data"
    },
    {
     "name": "stdout",
     "output_type": "stream",
     "text": [
      "Shuffling and writing examples to /home/ivogeorg/tensorflow_datasets/scicite/1.0.0.incompleteD0IF7R/scicite-train.tfrecord\n"
     ]
    },
    {
     "data": {
      "application/vnd.jupyter.widget-view+json": {
       "model_id": "447703db2a1e4d55816b4636b7118f91",
       "version_major": 2,
       "version_minor": 0
      },
      "text/plain": [
       "HBox(children=(FloatProgress(value=0.0, max=8194.0), HTML(value='')))"
      ]
     },
     "metadata": {},
     "output_type": "display_data"
    },
    {
     "data": {
      "application/vnd.jupyter.widget-view+json": {
       "model_id": "",
       "version_major": 2,
       "version_minor": 0
      },
      "text/plain": [
       "HBox(children=(FloatProgress(value=1.0, bar_style='info', max=1.0), HTML(value='')))"
      ]
     },
     "metadata": {},
     "output_type": "display_data"
    },
    {
     "name": "stdout",
     "output_type": "stream",
     "text": [
      "Shuffling and writing examples to /home/ivogeorg/tensorflow_datasets/scicite/1.0.0.incompleteD0IF7R/scicite-validation.tfrecord\n"
     ]
    },
    {
     "data": {
      "application/vnd.jupyter.widget-view+json": {
       "model_id": "eefffc7d838842c5beb325a5e06cecb5",
       "version_major": 2,
       "version_minor": 0
      },
      "text/plain": [
       "HBox(children=(FloatProgress(value=0.0, max=916.0), HTML(value='')))"
      ]
     },
     "metadata": {},
     "output_type": "display_data"
    },
    {
     "data": {
      "application/vnd.jupyter.widget-view+json": {
       "model_id": "",
       "version_major": 2,
       "version_minor": 0
      },
      "text/plain": [
       "HBox(children=(FloatProgress(value=1.0, bar_style='info', max=1.0), HTML(value='')))"
      ]
     },
     "metadata": {},
     "output_type": "display_data"
    },
    {
     "name": "stdout",
     "output_type": "stream",
     "text": [
      "Shuffling and writing examples to /home/ivogeorg/tensorflow_datasets/scicite/1.0.0.incompleteD0IF7R/scicite-test.tfrecord\n"
     ]
    },
    {
     "data": {
      "application/vnd.jupyter.widget-view+json": {
       "model_id": "d32384576eae4db1ac377c1e0c702dcf",
       "version_major": 2,
       "version_minor": 0
      },
      "text/plain": [
       "HBox(children=(FloatProgress(value=0.0, max=1859.0), HTML(value='')))"
      ]
     },
     "metadata": {},
     "output_type": "display_data"
    },
    {
     "name": "stdout",
     "output_type": "stream",
     "text": [
      "\u001b[1mDataset scicite downloaded and prepared to /home/ivogeorg/tensorflow_datasets/scicite/1.0.0. Subsequent calls will reuse this data.\u001b[0m\n"
     ]
    }
   ],
   "source": [
    "builder = tfds.builder(name='scicite')\n",
    "builder.download_and_prepare()\n",
    "train_data, validation_data, test_data = builder.as_dataset(\n",
    "    split=('train', 'validation', 'test'),\n",
    "    as_supervised=True)"
   ]
  },
  {
   "cell_type": "markdown",
   "metadata": {},
   "source": [
    "#### InsecureRequestWarning\n",
    "```\n",
    "/home/ivogeorg/anaconda3/envs/tf-2/lib/python3.7/site-packages/urllib3/connectionpool.py:1004: InsecureRequestWarning: Unverified HTTPS request is being made to host 's3-us-west-2.amazonaws.com'. Adding certificate verification is strongly advised. See: https://urllib3.readthedocs.io/en/latest/advanced-usage.html#ssl-warnings\n",
    "  InsecureRequestWarning,\n",
    "```"
   ]
  },
  {
   "cell_type": "code",
   "execution_count": 6,
   "metadata": {},
   "outputs": [
    {
     "data": {
      "text/html": [
       "<div>\n",
       "<style scoped>\n",
       "    .dataframe tbody tr th:only-of-type {\n",
       "        vertical-align: middle;\n",
       "    }\n",
       "\n",
       "    .dataframe tbody tr th {\n",
       "        vertical-align: top;\n",
       "    }\n",
       "\n",
       "    .dataframe thead th {\n",
       "        text-align: right;\n",
       "    }\n",
       "</style>\n",
       "<table border=\"1\" class=\"dataframe\">\n",
       "  <thead>\n",
       "    <tr style=\"text-align: right;\">\n",
       "      <th></th>\n",
       "      <th>string</th>\n",
       "      <th>label</th>\n",
       "    </tr>\n",
       "  </thead>\n",
       "  <tbody>\n",
       "    <tr>\n",
       "      <th>0</th>\n",
       "      <td>The finding that BMI is closely related to TBF...</td>\n",
       "      <td>result</td>\n",
       "    </tr>\n",
       "    <tr>\n",
       "      <th>1</th>\n",
       "      <td>The average magnitude of the NBR increases wit...</td>\n",
       "      <td>background</td>\n",
       "    </tr>\n",
       "    <tr>\n",
       "      <th>2</th>\n",
       "      <td>It has been reported that NF-κB activation can...</td>\n",
       "      <td>result</td>\n",
       "    </tr>\n",
       "    <tr>\n",
       "      <th>3</th>\n",
       "      <td>, 2008; Quraan and Cheyne, 2008; Quraan and Ch...</td>\n",
       "      <td>background</td>\n",
       "    </tr>\n",
       "    <tr>\n",
       "      <th>4</th>\n",
       "      <td>5B), but, interestingly, they shared conserved...</td>\n",
       "      <td>background</td>\n",
       "    </tr>\n",
       "    <tr>\n",
       "      <th>5</th>\n",
       "      <td>Some investigators have noted an association o...</td>\n",
       "      <td>background</td>\n",
       "    </tr>\n",
       "    <tr>\n",
       "      <th>6</th>\n",
       "      <td>In our previous study, it is documented that b...</td>\n",
       "      <td>background</td>\n",
       "    </tr>\n",
       "    <tr>\n",
       "      <th>7</th>\n",
       "      <td>These subjects have intact cognitive function ...</td>\n",
       "      <td>background</td>\n",
       "    </tr>\n",
       "    <tr>\n",
       "      <th>8</th>\n",
       "      <td>Another study reported improved knee function ...</td>\n",
       "      <td>background</td>\n",
       "    </tr>\n",
       "    <tr>\n",
       "      <th>9</th>\n",
       "      <td>C. Data Analysis Transcription Speech samples ...</td>\n",
       "      <td>method</td>\n",
       "    </tr>\n",
       "  </tbody>\n",
       "</table>\n",
       "</div>"
      ],
      "text/plain": [
       "                                              string       label\n",
       "0  The finding that BMI is closely related to TBF...      result\n",
       "1  The average magnitude of the NBR increases wit...  background\n",
       "2  It has been reported that NF-κB activation can...      result\n",
       "3  , 2008; Quraan and Cheyne, 2008; Quraan and Ch...  background\n",
       "4  5B), but, interestingly, they shared conserved...  background\n",
       "5  Some investigators have noted an association o...  background\n",
       "6  In our previous study, it is documented that b...  background\n",
       "7  These subjects have intact cognitive function ...  background\n",
       "8  Another study reported improved knee function ...  background\n",
       "9  C. Data Analysis Transcription Speech samples ...      method"
      ]
     },
     "execution_count": 6,
     "metadata": {},
     "output_type": "execute_result"
    }
   ],
   "source": [
    "#@title A few labeled examples from the training set\n",
    "NUM_EXAMPLES = 10#@param {type:'integer'}\n",
    "\n",
    "TEXT_FEATURE_NAME = builder.info.supervised_keys[0]  # TODO: ?\n",
    "LABEL_NAME = builder.info.supervised_keys[1]\n",
    "\n",
    "def label2str(numeric_label):\n",
    "    m = builder.info.features[LABEL_NAME].names\n",
    "    return m[numeric_label]\n",
    "\n",
    "data = next(iter(train_data.batch(NUM_EXAMPLES)))\n",
    "\n",
    "pd.DataFrame({\n",
    "    TEXT_FEATURE_NAME: [ex.numpy().decode('utf8') for ex in data[0]],  # TODO: ?\n",
    "    LABEL_NAME: [label2str(x) for x in data[1]]\n",
    "})"
   ]
  },
  {
   "cell_type": "markdown",
   "metadata": {},
   "source": [
    "## Training a citation intent classifier\n",
    "\n",
    "Train a Keras classifier on the SciCite dataset, using the CORD-19 embeddings with a classification layer on top."
   ]
  },
  {
   "cell_type": "code",
   "execution_count": 7,
   "metadata": {},
   "outputs": [
    {
     "name": "stdout",
     "output_type": "stream",
     "text": [
      "WARNING:tensorflow:Layer dense is casting an input tensor from dtype float64 to the layer's dtype of float32, which is new behavior in TensorFlow 2.  The layer has dtype float32 because it's dtype defaults to floatx.\n",
      "\n",
      "If you intended to run this layer in float32, you can safely ignore this warning. If in doubt, this warning is likely only an issue if you are porting a TensorFlow 1.X model to TensorFlow 2.\n",
      "\n",
      "To change all layers to have dtype float64 by default, call `tf.keras.backend.set_floatx('float64')`. To change just this layer, pass dtype='float64' to the layer constructor. If you are the author of this layer, you can disable autocasting by passing autocast=False to the base Layer constructor.\n",
      "\n"
     ]
    },
    {
     "name": "stderr",
     "output_type": "stream",
     "text": [
      "WARNING:tensorflow:Layer dense is casting an input tensor from dtype float64 to the layer's dtype of float32, which is new behavior in TensorFlow 2.  The layer has dtype float32 because it's dtype defaults to floatx.\n",
      "\n",
      "If you intended to run this layer in float32, you can safely ignore this warning. If in doubt, this warning is likely only an issue if you are porting a TensorFlow 1.X model to TensorFlow 2.\n",
      "\n",
      "To change all layers to have dtype float64 by default, call `tf.keras.backend.set_floatx('float64')`. To change just this layer, pass dtype='float64' to the layer constructor. If you are the author of this layer, you can disable autocasting by passing autocast=False to the base Layer constructor.\n",
      "\n"
     ]
    },
    {
     "name": "stdout",
     "output_type": "stream",
     "text": [
      "Model: \"sequential\"\n",
      "_________________________________________________________________\n",
      "Layer (type)                 Output Shape              Param #   \n",
      "=================================================================\n",
      "keras_layer (KerasLayer)     (None, 128)               17301632  \n",
      "_________________________________________________________________\n",
      "dense (Dense)                (None, 3)                 387       \n",
      "=================================================================\n",
      "Total params: 17,302,019\n",
      "Trainable params: 387\n",
      "Non-trainable params: 17,301,632\n",
      "_________________________________________________________________\n"
     ]
    }
   ],
   "source": [
    "EMBEDDING = embedding_url\n",
    "TRAINABLE_MODULE = False  #@param {type: 'boolean'}\n",
    "\n",
    "hub_layer = hub.KerasLayer(EMBEDDING, input_shape=[],  # TODO: hub.KerasLayer\n",
    "                           dtype=tf.string, trainable=TRAINABLE_MODULE)\n",
    "\n",
    "model = tf.keras.Sequential()\n",
    "model.add(hub_layer)\n",
    "model.add(tf.keras.layers.Dense(3))\n",
    "model.summary()\n",
    "model.compile(optimizer='adam',\n",
    "              loss=tf.keras.losses.SparseCategoricalCrossentropy(from_logits=True),\n",
    "              metrics=['accuracy'])"
   ]
  },
  {
   "cell_type": "markdown",
   "metadata": {},
   "source": [
    "#### WARNING\n",
    "```\n",
    "WARNING:tensorflow:Layer dense is casting an input tensor from dtype float64 to the layer's dtype of float32, which is new behavior in TensorFlow 2.  The layer has dtype float32 because it's dtype defaults to floatx.\n",
    "\n",
    "If you intended to run this layer in float32, you can safely ignore this warning. If in doubt, this warning is likely only an issue if you are porting a TensorFlow 1.X model to TensorFlow 2.\n",
    "\n",
    "To change all layers to have dtype float64 by default, call `tf.keras.backend.set_floatx('float64')`. To change just this layer, pass dtype='float64' to the layer constructor. If you are the author of this layer, you can disable autocasting by passing autocast=False to the base Layer constructor.\n",
    "```"
   ]
  },
  {
   "cell_type": "markdown",
   "metadata": {},
   "source": [
    "## Train and evaluate the model"
   ]
  },
  {
   "cell_type": "code",
   "execution_count": 8,
   "metadata": {},
   "outputs": [
    {
     "name": "stdout",
     "output_type": "stream",
     "text": [
      "Epoch 1/35\n",
      "257/257 [==============================] - 2s 8ms/step - loss: 0.9520 - accuracy: 0.5466 - val_loss: 0.8029 - val_accuracy: 0.6528\n",
      "Epoch 2/35\n",
      "257/257 [==============================] - 2s 7ms/step - loss: 0.7193 - accuracy: 0.7055 - val_loss: 0.6892 - val_accuracy: 0.7172\n",
      "Epoch 3/35\n",
      "257/257 [==============================] - 2s 7ms/step - loss: 0.6364 - accuracy: 0.7448 - val_loss: 0.6368 - val_accuracy: 0.7391\n",
      "Epoch 4/35\n",
      "257/257 [==============================] - 2s 7ms/step - loss: 0.5960 - accuracy: 0.7652 - val_loss: 0.6080 - val_accuracy: 0.7511\n",
      "Epoch 5/35\n",
      "257/257 [==============================] - 2s 7ms/step - loss: 0.5730 - accuracy: 0.7751 - val_loss: 0.5910 - val_accuracy: 0.7576\n",
      "Epoch 6/35\n",
      "257/257 [==============================] - 2s 7ms/step - loss: 0.5579 - accuracy: 0.7839 - val_loss: 0.5809 - val_accuracy: 0.7544\n",
      "Epoch 7/35\n",
      "257/257 [==============================] - 2s 7ms/step - loss: 0.5481 - accuracy: 0.7873 - val_loss: 0.5742 - val_accuracy: 0.7620\n",
      "Epoch 8/35\n",
      "257/257 [==============================] - 2s 7ms/step - loss: 0.5406 - accuracy: 0.7907 - val_loss: 0.5676 - val_accuracy: 0.7609\n",
      "Epoch 9/35\n",
      "257/257 [==============================] - 2s 7ms/step - loss: 0.5351 - accuracy: 0.7938 - val_loss: 0.5643 - val_accuracy: 0.7653\n",
      "Epoch 10/35\n",
      "257/257 [==============================] - 2s 7ms/step - loss: 0.5301 - accuracy: 0.7927 - val_loss: 0.5614 - val_accuracy: 0.7631\n",
      "Epoch 11/35\n",
      "257/257 [==============================] - 2s 7ms/step - loss: 0.5267 - accuracy: 0.7929 - val_loss: 0.5606 - val_accuracy: 0.7620\n",
      "Epoch 12/35\n",
      "257/257 [==============================] - 2s 7ms/step - loss: 0.5237 - accuracy: 0.7936 - val_loss: 0.5565 - val_accuracy: 0.7664\n",
      "Epoch 13/35\n",
      "257/257 [==============================] - 2s 7ms/step - loss: 0.5208 - accuracy: 0.7959 - val_loss: 0.5548 - val_accuracy: 0.7718\n",
      "Epoch 14/35\n",
      "257/257 [==============================] - 2s 7ms/step - loss: 0.5184 - accuracy: 0.7948 - val_loss: 0.5526 - val_accuracy: 0.7707\n",
      "Epoch 15/35\n",
      "257/257 [==============================] - 2s 7ms/step - loss: 0.5163 - accuracy: 0.7968 - val_loss: 0.5540 - val_accuracy: 0.7751\n",
      "Epoch 16/35\n",
      "257/257 [==============================] - 2s 7ms/step - loss: 0.5148 - accuracy: 0.7961 - val_loss: 0.5539 - val_accuracy: 0.7740\n",
      "Epoch 17/35\n",
      "257/257 [==============================] - 2s 7ms/step - loss: 0.5126 - accuracy: 0.7989 - val_loss: 0.5521 - val_accuracy: 0.7740\n",
      "Epoch 18/35\n",
      "257/257 [==============================] - 2s 7ms/step - loss: 0.5117 - accuracy: 0.7980 - val_loss: 0.5503 - val_accuracy: 0.7762\n",
      "Epoch 19/35\n",
      "257/257 [==============================] - 2s 7ms/step - loss: 0.5103 - accuracy: 0.7979 - val_loss: 0.5488 - val_accuracy: 0.7795\n",
      "Epoch 20/35\n",
      "257/257 [==============================] - 2s 7ms/step - loss: 0.5091 - accuracy: 0.7983 - val_loss: 0.5500 - val_accuracy: 0.7860\n",
      "Epoch 21/35\n",
      "257/257 [==============================] - 2s 7ms/step - loss: 0.5086 - accuracy: 0.7959 - val_loss: 0.5493 - val_accuracy: 0.7784\n",
      "Epoch 22/35\n",
      "257/257 [==============================] - 2s 7ms/step - loss: 0.5071 - accuracy: 0.7988 - val_loss: 0.5477 - val_accuracy: 0.7849\n",
      "Epoch 23/35\n",
      "257/257 [==============================] - 2s 7ms/step - loss: 0.5059 - accuracy: 0.8001 - val_loss: 0.5489 - val_accuracy: 0.7795\n",
      "Epoch 24/35\n",
      "257/257 [==============================] - 2s 7ms/step - loss: 0.5054 - accuracy: 0.7992 - val_loss: 0.5487 - val_accuracy: 0.7838\n",
      "Epoch 25/35\n",
      "257/257 [==============================] - 2s 7ms/step - loss: 0.5043 - accuracy: 0.8006 - val_loss: 0.5486 - val_accuracy: 0.7838\n",
      "Epoch 26/35\n",
      "257/257 [==============================] - 2s 7ms/step - loss: 0.5036 - accuracy: 0.8017 - val_loss: 0.5491 - val_accuracy: 0.7838\n",
      "Epoch 27/35\n",
      "257/257 [==============================] - 2s 7ms/step - loss: 0.5032 - accuracy: 0.7994 - val_loss: 0.5453 - val_accuracy: 0.7828\n",
      "Epoch 28/35\n",
      "257/257 [==============================] - 2s 7ms/step - loss: 0.5028 - accuracy: 0.8006 - val_loss: 0.5462 - val_accuracy: 0.7871\n",
      "Epoch 29/35\n",
      "257/257 [==============================] - 2s 7ms/step - loss: 0.5019 - accuracy: 0.8003 - val_loss: 0.5448 - val_accuracy: 0.7860\n",
      "Epoch 30/35\n",
      "257/257 [==============================] - 2s 7ms/step - loss: 0.5017 - accuracy: 0.8028 - val_loss: 0.5466 - val_accuracy: 0.7871\n",
      "Epoch 31/35\n",
      "257/257 [==============================] - 2s 7ms/step - loss: 0.5012 - accuracy: 0.8029 - val_loss: 0.5455 - val_accuracy: 0.7871\n",
      "Epoch 32/35\n",
      "257/257 [==============================] - 2s 7ms/step - loss: 0.5005 - accuracy: 0.7999 - val_loss: 0.5442 - val_accuracy: 0.7860\n",
      "Epoch 33/35\n",
      "257/257 [==============================] - 2s 7ms/step - loss: 0.5005 - accuracy: 0.8025 - val_loss: 0.5451 - val_accuracy: 0.7904\n",
      "Epoch 34/35\n",
      "257/257 [==============================] - 2s 7ms/step - loss: 0.5000 - accuracy: 0.8002 - val_loss: 0.5461 - val_accuracy: 0.7882\n",
      "Epoch 35/35\n",
      "257/257 [==============================] - 2s 7ms/step - loss: 0.4993 - accuracy: 0.8029 - val_loss: 0.5456 - val_accuracy: 0.7893\n"
     ]
    }
   ],
   "source": [
    "EPOCHS = 35#@param {type: 'integer'}\n",
    "BATCH_SIZE = 32#@param {type: 'integer'}\n",
    "\n",
    "history = model.fit(train_data.shuffle(10000).batch(BATCH_SIZE),\n",
    "                    epochs=EPOCHS,\n",
    "                    validation_data=validation_data.batch(BATCH_SIZE),\n",
    "                    verbose=1)"
   ]
  },
  {
   "cell_type": "code",
   "execution_count": 10,
   "metadata": {},
   "outputs": [],
   "source": [
    "from matplotlib import pyplot as plt\n",
    "\n",
    "def display_training_curves(training, validation, title, subplot):\n",
    "    if subplot % 10 == 1:  # set up the subplots on the first call\n",
    "        plt.subplots(figsize=(10, 10), facecolor='#F0F0F0')\n",
    "        plt.tight_layout()\n",
    "        \n",
    "    ax = plt.subplot(subplot)\n",
    "    ax.set_facecolor('#F8F8F8')\n",
    "    ax.plot(training)\n",
    "    ax.plot(validation)\n",
    "    ax.set_title('model ' + title)\n",
    "    ax.set_ylabel(title)\n",
    "    ax.set_xlabel('epoch')\n",
    "    ax.legend(['train', 'valid.'])"
   ]
  },
  {
   "cell_type": "code",
   "execution_count": 11,
   "metadata": {},
   "outputs": [
    {
     "data": {
      "image/png": "[encoded data removed]",
      "text/plain": [
       "<Figure size 720x720 with 2 Axes>"
      ]
     },
     "metadata": {},
     "output_type": "display_data"
    }
   ],
   "source": [
    "display_training_curves(history.history['accuracy'],\n",
    "                        history.history['val_accuracy'],\n",
    "                        'accuracy',\n",
    "                        211)\n",
    "\n",
    "display_training_curves(history.history['loss'],\n",
    "                        history.history['val_loss'],\n",
    "                        'loss',\n",
    "                        212)"
   ]
  },
  {
   "cell_type": "markdown",
   "metadata": {},
   "source": [
    "## Evaluate the model"
   ]
  },
  {
   "cell_type": "code",
   "execution_count": 12,
   "metadata": {},
   "outputs": [
    {
     "name": "stdout",
     "output_type": "stream",
     "text": [
      "4/4 - 0s - loss: 0.5370 - accuracy: 0.7859\n",
      "%s: %.3f\n",
      "%s: %.3f\n"
     ]
    }
   ],
   "source": [
    "results = model.evaluate(test_data.batch(512), verbose=2)\n",
    "\n",
    "for name, value in zip(model.metrics_names, results):\n",
    "    print('%s: %.3f'.format(name, value))"
   ]
  },
  {
   "cell_type": "code",
   "execution_count": 15,
   "metadata": {},
   "outputs": [
    {
     "name": "stdout",
     "output_type": "stream",
     "text": [
      "WARNING:tensorflow:From <ipython-input-15-0f97b0629608>:6: Sequential.predict_classes (from tensorflow.python.keras.engine.sequential) is deprecated and will be removed after 2021-01-01.\n",
      "Instructions for updating:\n",
      "Please use instead:* `np.argmax(model.predict(x), axis=-1)`,   if your model does multi-class classification   (e.g. if it uses a `softmax` last-layer activation).* `(model.predict(x) > 0.5).astype(\"int32\")`,   if your model does binary classification   (e.g. if it uses a `sigmoid` last-layer activation).\n"
     ]
    },
    {
     "name": "stderr",
     "output_type": "stream",
     "text": [
      "WARNING:tensorflow:From <ipython-input-15-0f97b0629608>:6: Sequential.predict_classes (from tensorflow.python.keras.engine.sequential) is deprecated and will be removed after 2021-01-01.\n",
      "Instructions for updating:\n",
      "Please use instead:* `np.argmax(model.predict(x), axis=-1)`,   if your model does multi-class classification   (e.g. if it uses a `softmax` last-layer activation).* `(model.predict(x) > 0.5).astype(\"int32\")`,   if your model does binary classification   (e.g. if it uses a `sigmoid` last-layer activation).\n"
     ]
    },
    {
     "data": {
      "text/html": [
       "<div>\n",
       "<style scoped>\n",
       "    .dataframe tbody tr th:only-of-type {\n",
       "        vertical-align: middle;\n",
       "    }\n",
       "\n",
       "    .dataframe tbody tr th {\n",
       "        vertical-align: top;\n",
       "    }\n",
       "\n",
       "    .dataframe thead th {\n",
       "        text-align: right;\n",
       "    }\n",
       "</style>\n",
       "<table border=\"1\" class=\"dataframe\">\n",
       "  <thead>\n",
       "    <tr style=\"text-align: right;\">\n",
       "      <th></th>\n",
       "      <th>string</th>\n",
       "      <th>label</th>\n",
       "      <th>prediction</th>\n",
       "    </tr>\n",
       "  </thead>\n",
       "  <tbody>\n",
       "    <tr>\n",
       "      <th>0</th>\n",
       "      <td>The diffraction grating, LED, and split detect...</td>\n",
       "      <td>background</td>\n",
       "      <td>method</td>\n",
       "    </tr>\n",
       "    <tr>\n",
       "      <th>1</th>\n",
       "      <td>Our ideas are based on a previous paper [4] de...</td>\n",
       "      <td>background</td>\n",
       "      <td>method</td>\n",
       "    </tr>\n",
       "    <tr>\n",
       "      <th>2</th>\n",
       "      <td>Our finding is consistent with the literature ...</td>\n",
       "      <td>result</td>\n",
       "      <td>result</td>\n",
       "    </tr>\n",
       "    <tr>\n",
       "      <th>3</th>\n",
       "      <td>Test scores from each of the cognitive domains...</td>\n",
       "      <td>method</td>\n",
       "      <td>method</td>\n",
       "    </tr>\n",
       "    <tr>\n",
       "      <th>4</th>\n",
       "      <td>The optimization algorithm was set to maximize...</td>\n",
       "      <td>method</td>\n",
       "      <td>method</td>\n",
       "    </tr>\n",
       "    <tr>\n",
       "      <th>5</th>\n",
       "      <td>To quantify the extent of substitution saturat...</td>\n",
       "      <td>method</td>\n",
       "      <td>method</td>\n",
       "    </tr>\n",
       "    <tr>\n",
       "      <th>6</th>\n",
       "      <td>Examples of gesture control are based on the e...</td>\n",
       "      <td>method</td>\n",
       "      <td>method</td>\n",
       "    </tr>\n",
       "    <tr>\n",
       "      <th>7</th>\n",
       "      <td>The identification of these features has been ...</td>\n",
       "      <td>method</td>\n",
       "      <td>background</td>\n",
       "    </tr>\n",
       "    <tr>\n",
       "      <th>8</th>\n",
       "      <td>Postulated mechanisms for observed effects of ...</td>\n",
       "      <td>background</td>\n",
       "      <td>background</td>\n",
       "    </tr>\n",
       "    <tr>\n",
       "      <th>9</th>\n",
       "      <td>The right inferior phrenic artery is the most ...</td>\n",
       "      <td>background</td>\n",
       "      <td>background</td>\n",
       "    </tr>\n",
       "    <tr>\n",
       "      <th>10</th>\n",
       "      <td>[8] presented an approach for estimating the t...</td>\n",
       "      <td>background</td>\n",
       "      <td>method</td>\n",
       "    </tr>\n",
       "    <tr>\n",
       "      <th>11</th>\n",
       "      <td>Similar structures were observed in M10 cells ...</td>\n",
       "      <td>result</td>\n",
       "      <td>method</td>\n",
       "    </tr>\n",
       "    <tr>\n",
       "      <th>12</th>\n",
       "      <td>Cytotoxic effects of cobalt chloride were repo...</td>\n",
       "      <td>background</td>\n",
       "      <td>background</td>\n",
       "    </tr>\n",
       "    <tr>\n",
       "      <th>13</th>\n",
       "      <td>However, prolonged incubation of latex enzyme ...</td>\n",
       "      <td>background</td>\n",
       "      <td>background</td>\n",
       "    </tr>\n",
       "    <tr>\n",
       "      <th>14</th>\n",
       "      <td>…and travels great distances, resulting in a s...</td>\n",
       "      <td>background</td>\n",
       "      <td>background</td>\n",
       "    </tr>\n",
       "    <tr>\n",
       "      <th>15</th>\n",
       "      <td>The images fused using region selection; MSD, ...</td>\n",
       "      <td>method</td>\n",
       "      <td>method</td>\n",
       "    </tr>\n",
       "    <tr>\n",
       "      <th>16</th>\n",
       "      <td>These findings were expected, as EMG activity ...</td>\n",
       "      <td>result</td>\n",
       "      <td>background</td>\n",
       "    </tr>\n",
       "    <tr>\n",
       "      <th>17</th>\n",
       "      <td>The model has been extended to both 2D and 3D ...</td>\n",
       "      <td>method</td>\n",
       "      <td>background</td>\n",
       "    </tr>\n",
       "    <tr>\n",
       "      <th>18</th>\n",
       "      <td>Therefore, many authors claim comprehensive nu...</td>\n",
       "      <td>background</td>\n",
       "      <td>method</td>\n",
       "    </tr>\n",
       "    <tr>\n",
       "      <th>19</th>\n",
       "      <td>Similar to Ab40, IAPP-GI populates an aggregat...</td>\n",
       "      <td>background</td>\n",
       "      <td>background</td>\n",
       "    </tr>\n",
       "  </tbody>\n",
       "</table>\n",
       "</div>"
      ],
      "text/plain": [
       "                                               string       label  prediction\n",
       "0   The diffraction grating, LED, and split detect...  background      method\n",
       "1   Our ideas are based on a previous paper [4] de...  background      method\n",
       "2   Our finding is consistent with the literature ...      result      result\n",
       "3   Test scores from each of the cognitive domains...      method      method\n",
       "4   The optimization algorithm was set to maximize...      method      method\n",
       "5   To quantify the extent of substitution saturat...      method      method\n",
       "6   Examples of gesture control are based on the e...      method      method\n",
       "7   The identification of these features has been ...      method  background\n",
       "8   Postulated mechanisms for observed effects of ...  background  background\n",
       "9   The right inferior phrenic artery is the most ...  background  background\n",
       "10  [8] presented an approach for estimating the t...  background      method\n",
       "11  Similar structures were observed in M10 cells ...      result      method\n",
       "12  Cytotoxic effects of cobalt chloride were repo...  background  background\n",
       "13  However, prolonged incubation of latex enzyme ...  background  background\n",
       "14  …and travels great distances, resulting in a s...  background  background\n",
       "15  The images fused using region selection; MSD, ...      method      method\n",
       "16  These findings were expected, as EMG activity ...      result  background\n",
       "17  The model has been extended to both 2D and 3D ...      method  background\n",
       "18  Therefore, many authors claim comprehensive nu...  background      method\n",
       "19  Similar to Ab40, IAPP-GI populates an aggregat...  background  background"
      ]
     },
     "execution_count": 15,
     "metadata": {},
     "output_type": "execute_result"
    }
   ],
   "source": [
    "prediction_dataset = next(iter(test_data.batch(20)))\n",
    "\n",
    "prediction_texts = [ex.numpy().decode('utf8') for ex in prediction_dataset[0]]\n",
    "prediction_labels = [label2str(x) for x in prediction_dataset[1]]\n",
    "\n",
    "predictions = [label2str(x) for x in model.predict_classes(prediction_texts)]\n",
    "\n",
    "pd.DataFrame({\n",
    "    TEXT_FEATURE_NAME: prediction_texts,\n",
    "    LABEL_NAME: prediction_labels,\n",
    "    'prediction': predictions\n",
    "})"
   ]
  },
  {
   "cell_type": "code",
   "execution_count": null,
   "metadata": {},
   "outputs": [],
   "source": []
  }
 ],
 "metadata": {
  "kernelspec": {
   "display_name": "Python 3",
   "language": "python",
   "name": "python3"
  },
  "language_info": {
   "codemirror_mode": {
    "name": "ipython",
    "version": 3
   },
   "file_extension": ".py",
   "mimetype": "text/x-python",
   "name": "python",
   "nbconvert_exporter": "python",
   "pygments_lexer": "ipython3",
   "version": "3.7.7"
  }
 },
 "nbformat": 4,
 "nbformat_minor": 4
}
